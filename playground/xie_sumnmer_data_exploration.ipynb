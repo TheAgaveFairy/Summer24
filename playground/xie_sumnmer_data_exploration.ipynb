{
 "cells": [
  {
   "cell_type": "code",
   "execution_count": 3,
   "metadata": {
    "id": "Y9Tn-ywdeZA3"
   },
   "outputs": [],
   "source": [
    "import os\n",
    "import random\n",
    "import pandas as pd\n",
    "import numpy as np\n",
    "import matplotlib.pyplot as plt"
   ]
  },
  {
   "cell_type": "code",
   "execution_count": null,
   "metadata": {
    "colab": {
     "base_uri": "https://localhost:8080/",
     "height": 386
    },
    "id": "uPFyaJJvYFiZ",
    "outputId": "751a3f53-a8a0-4c84-b49b-b335505b7d1d"
   },
   "outputs": [],
   "source": [
    "training_data_path = r'C:\\Users\\jodge\\Documents\\School\\Summer24\\tinyml_contest_data_training'\n",
    "os.listdir(training_data_path)"
   ]
  },
  {
   "cell_type": "code",
   "execution_count": null,
   "metadata": {
    "colab": {
     "base_uri": "https://localhost:8080/"
    },
    "id": "0Ue10-Kgg_Wn",
    "outputId": "af425af4-6df3-46fc-d7dc-a56d7015a5cc"
   },
   "outputs": [],
   "source": [
    "#data_path = r'C:\\Users\\jodge\\CLionProjects\\XIE\\tinyml_contest_data_training'\n",
    "#all_files = os.listdir(data_path)\n",
    "#all_files\n",
    "\n",
    "drive.mount('/content/drive')\n",
    "dir_path = r'/content/drive/My Drive/School/UTSA/Tiny ML on IoT/tinyml_contest_data_training'\n",
    "directory_files = os.listdir(dir_path)\n",
    "for f in directory_files[:5]:\n",
    "  file_path = os.path.join(dir_path, f)\n",
    "  reader = pd.read_csv(file_path, sep = \" \", header = None)\n",
    "  print(f, reader.head(3))"
   ]
  },
  {
   "cell_type": "code",
   "execution_count": null,
   "metadata": {
    "colab": {
     "base_uri": "https://localhost:8080/",
     "height": 144
    },
    "id": "PlfUThNAuTvu",
    "outputId": "7d692db3-f97a-4652-e531-5a668084f587"
   },
   "outputs": [],
   "source": [
    "test = directory_files[random.randint(0,500)]\n",
    "test_path = os.path.join(dir_path, test)\n",
    "reader = pd.read_csv(test_path, sep = \" \", header = None)\n",
    "reader.head(3)"
   ]
  },
  {
   "cell_type": "code",
   "execution_count": null,
   "metadata": {
    "colab": {
     "base_uri": "https://localhost:8080/",
     "height": 430
    },
    "id": "FudZLqweu6i0",
    "outputId": "8a6c8476-c688-4d5d-f054-c775ce1a6475"
   },
   "outputs": [],
   "source": [
    "plt.plot(reader)\n",
    "plt.show()"
   ]
  },
  {
   "cell_type": "code",
   "execution_count": null,
   "metadata": {},
   "outputs": [],
   "source": [
    "data_indices_dir = r'C:\\Users\\jodge\\Documents\\School\\Summer24\\tinymlcontest2022_demo_example\\data_indices'\n",
    "files = os.listdir(data_indices_dir)\n",
    "files"
   ]
  },
  {
   "cell_type": "code",
   "execution_count": null,
   "metadata": {},
   "outputs": [],
   "source": [
    "for fi in files:\n",
    "    path = os.path.join(data_indices_dir, fi)\n",
    "    df = pd.read_csv(path)\n",
    "    #print(df.head())\n",
    "    sum = np.sum(df.label)\n",
    "    print(fi, sum, len(df.label))"
   ]
  },
  {
   "cell_type": "code",
   "execution_count": 11,
   "metadata": {
    "scrolled": true
   },
   "outputs": [
    {
     "data": {
      "text/plain": [
       "==========================================================================================\n",
       "Layer (type:depth-idx)                   Output Shape              Param #\n",
       "==========================================================================================\n",
       "IEGMNet                                  [32, 2]                   --\n",
       "├─Sequential: 1-1                        [32, 3, 623, 1]           --\n",
       "│    └─Conv2d: 2-1                       [32, 3, 623, 1]           21\n",
       "│    └─ReLU: 2-2                         [32, 3, 623, 1]           --\n",
       "│    └─BatchNorm2d: 2-3                  [32, 3, 623, 1]           6\n",
       "├─Sequential: 1-2                        [32, 5, 310, 1]           --\n",
       "│    └─Conv2d: 2-4                       [32, 5, 310, 1]           80\n",
       "│    └─ReLU: 2-5                         [32, 5, 310, 1]           --\n",
       "│    └─BatchNorm2d: 2-6                  [32, 5, 310, 1]           10\n",
       "├─Sequential: 1-3                        [32, 10, 154, 1]          --\n",
       "│    └─Conv2d: 2-7                       [32, 10, 154, 1]          210\n",
       "│    └─ReLU: 2-8                         [32, 10, 154, 1]          --\n",
       "│    └─BatchNorm2d: 2-9                  [32, 10, 154, 1]          20\n",
       "├─Sequential: 1-4                        [32, 20, 76, 1]           --\n",
       "│    └─Conv2d: 2-10                      [32, 20, 76, 1]           820\n",
       "│    └─ReLU: 2-11                        [32, 20, 76, 1]           --\n",
       "│    └─BatchNorm2d: 2-12                 [32, 20, 76, 1]           40\n",
       "├─Sequential: 1-5                        [32, 20, 37, 1]           --\n",
       "│    └─Conv2d: 2-13                      [32, 20, 37, 1]           1,620\n",
       "│    └─ReLU: 2-14                        [32, 20, 37, 1]           --\n",
       "│    └─BatchNorm2d: 2-15                 [32, 20, 37, 1]           40\n",
       "├─AdaptiveAvgPool2d: 1-6                 [32, 20, 37, 1]           --\n",
       "├─Sequential: 1-7                        [32, 10]                  --\n",
       "│    └─Dropout: 2-16                     [32, 740]                 --\n",
       "│    └─Linear: 2-17                      [32, 10]                  7,410\n",
       "├─Sequential: 1-8                        [32, 2]                   --\n",
       "│    └─Linear: 2-18                      [32, 2]                   22\n",
       "==========================================================================================\n",
       "Total params: 10,299\n",
       "Trainable params: 10,299\n",
       "Non-trainable params: 0\n",
       "Total mult-adds (M): 6.40\n",
       "==========================================================================================\n",
       "Input size (MB): 0.16\n",
       "Forward/backward pass size (MB): 3.70\n",
       "Params size (MB): 0.04\n",
       "Estimated Total Size (MB): 3.90\n",
       "=========================================================================================="
      ]
     },
     "execution_count": 11,
     "metadata": {},
     "output_type": "execute_result"
    }
   ],
   "source": [
    "from torchinfo import summary\n",
    "from model_1_avgpoolinfo import IEGMNet\n",
    "\n",
    "model = IEGMNet()\n",
    "batch_size = 32\n",
    "summary(model, input_size=(batch_size, 1, 1250, 1))"
   ]
  },
  {
   "cell_type": "code",
   "execution_count": 14,
   "metadata": {},
   "outputs": [
    {
     "data": {
      "text/plain": [
       "==========================================================================================\n",
       "Layer (type:depth-idx)                   Output Shape              Param #\n",
       "==========================================================================================\n",
       "IEGMNet                                  [32, 2]                   --\n",
       "├─Sequential: 1-1                        [32, 3, 123, 1]           --\n",
       "│    └─Conv2d: 2-1                       [32, 3, 123, 1]           21\n",
       "│    └─ReLU: 2-2                         [32, 3, 123, 1]           --\n",
       "│    └─BatchNorm2d: 2-3                  [32, 3, 123, 1]           6\n",
       "├─Sequential: 1-2                        [32, 5, 60, 1]            --\n",
       "│    └─Conv2d: 2-4                       [32, 5, 60, 1]            80\n",
       "│    └─ReLU: 2-5                         [32, 5, 60, 1]            --\n",
       "│    └─BatchNorm2d: 2-6                  [32, 5, 60, 1]            10\n",
       "├─Sequential: 1-3                        [32, 10, 29, 1]           --\n",
       "│    └─Conv2d: 2-7                       [32, 10, 29, 1]           210\n",
       "│    └─ReLU: 2-8                         [32, 10, 29, 1]           --\n",
       "│    └─BatchNorm2d: 2-9                  [32, 10, 29, 1]           20\n",
       "├─Sequential: 1-4                        [32, 20, 13, 1]           --\n",
       "│    └─Conv2d: 2-10                      [32, 20, 13, 1]           820\n",
       "│    └─ReLU: 2-11                        [32, 20, 13, 1]           --\n",
       "│    └─BatchNorm2d: 2-12                 [32, 20, 13, 1]           40\n",
       "├─Sequential: 1-5                        [32, 20, 5, 1]            --\n",
       "│    └─Conv2d: 2-13                      [32, 20, 5, 1]            1,620\n",
       "│    └─ReLU: 2-14                        [32, 20, 5, 1]            --\n",
       "│    └─BatchNorm2d: 2-15                 [32, 20, 5, 1]            40\n",
       "├─AdaptiveAvgPool2d: 1-6                 [32, 20, 37, 1]           --\n",
       "├─Sequential: 1-7                        [32, 10]                  --\n",
       "│    └─Dropout: 2-16                     [32, 740]                 --\n",
       "│    └─Linear: 2-17                      [32, 10]                  7,410\n",
       "├─Sequential: 1-8                        [32, 2]                   --\n",
       "│    └─Linear: 2-18                      [32, 2]                   22\n",
       "==========================================================================================\n",
       "Total params: 10,299\n",
       "Trainable params: 10,299\n",
       "Non-trainable params: 0\n",
       "Total mult-adds (M): 1.27\n",
       "==========================================================================================\n",
       "Input size (MB): 0.03\n",
       "Forward/backward pass size (MB): 0.68\n",
       "Params size (MB): 0.04\n",
       "Estimated Total Size (MB): 0.75\n",
       "=========================================================================================="
      ]
     },
     "execution_count": 14,
     "metadata": {},
     "output_type": "execute_result"
    }
   ],
   "source": [
    "summary(model, input_size=(batch_size, 1, 250, 1))"
   ]
  },
  {
   "cell_type": "code",
   "execution_count": null,
   "metadata": {},
   "outputs": [],
   "source": []
  }
 ],
 "metadata": {
  "colab": {
   "provenance": []
  },
  "kernelspec": {
   "display_name": "Python 3 (ipykernel)",
   "language": "python",
   "name": "python3"
  },
  "language_info": {
   "codemirror_mode": {
    "name": "ipython",
    "version": 3
   },
   "file_extension": ".py",
   "mimetype": "text/x-python",
   "name": "python",
   "nbconvert_exporter": "python",
   "pygments_lexer": "ipython3",
   "version": "3.8.19"
  }
 },
 "nbformat": 4,
 "nbformat_minor": 4
}
